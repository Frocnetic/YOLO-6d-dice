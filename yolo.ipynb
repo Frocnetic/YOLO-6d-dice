{
 "cells": [
  {
   "cell_type": "markdown",
   "metadata": {},
   "source": [
    "dada"
   ]
  },
  {
   "cell_type": "code",
   "execution_count": null,
   "metadata": {},
   "outputs": [],
   "source": [
    "import cv2\n",
    "import threading\n",
    "from flask import Flask, jsonify\n",
    "from flask_cors import CORS\n",
    "from ultralytics import YOLO\n",
    "import time\n",
    "\n",
    "# Initialiserer Flask-applikationen\n",
    "app = Flask(__name__)\n",
    "CORS(app)  # Tillader cross-origin requests (CORS)\n",
    "\n",
    "# Indlæser YOLO-modellen til at genkende terninger\n",
    "model = YOLO(r\"C:\\Users\\frode\\Downloads\\datasets\\train21\\weights\\best.pt\")\n",
    "custom_classes = [\"dice_1\", \"dice_2\", \"dice_3\", \"dice_4\", \"dice_5\", \"dice_6\"]\n",
    "\n",
    "# Initialiserer variabler til at holde styr på terningekast\n",
    "latest_dice_roll = None  # Seneste terningekast\n",
    "confirmed_dice_roll = None  # Bekræftet terningekast\n",
    "dice_last_seen_time = time.time()  # Tidspunkt for seneste terningeregistrering\n",
    "dice_removed = False  # Holder øje med, om terningen er blevet fjernet\n",
    "\n",
    "# Åbner webcam til videooptagelse\n",
    "cap = cv2.VideoCapture(0)"
   ]
  },
  {
   "cell_type": "markdown",
   "metadata": {},
   "source": [
    "dawd"
   ]
  },
  {
   "cell_type": "code",
   "execution_count": null,
   "metadata": {},
   "outputs": [],
   "source": [
    "def capture_video():\n",
    "    \"\"\"Funktion til at fange videostream og identificere terningekast.\"\"\"\n",
    "    global latest_dice_roll, confirmed_dice_roll, dice_last_seen_time, dice_removed\n",
    "    \n",
    "    while cap.isOpened():\n",
    "        ret, frame = cap.read()\n",
    "        if not ret:\n",
    "            break  # Stopper hvis kameraet ikke længere sender billeder\n",
    "\n",
    "        # Kører billedet gennem YOLO-modellen for at detektere objekter\n",
    "        results = model(frame)[0]\n",
    "\n",
    "        detected_dice = None\n",
    "        for box in results.boxes:\n",
    "            class_id = int(box.cls.item())  # Finder klassens ID\n",
    "            if class_id < len(custom_classes):\n",
    "                detected_dice = class_id + 1  # Tildeler værdi baseret på ID\n",
    "                x1, y1, x2, y2 = map(int, box.xyxy[0])  # Henter koordinater for boks\n",
    "                conf = box.conf.item()  # Henter sikkerhedsværdien (confidence)\n",
    "                label = f\"{custom_classes[class_id]} ({conf:.2f})\"\n",
    "\n",
    "                # Tegner boks omkring detekteret terning og viser label\n",
    "                cv2.rectangle(frame, (x1, y1), (x2, y2), (0, 255, 0), 2)\n",
    "                cv2.putText(frame, label, (x1, y1 - 10), cv2.FONT_HERSHEY_SIMPLEX, 0.5, (255, 0, 0), 2)\n",
    "\n",
    "        if detected_dice:\n",
    "            if not dice_removed and detected_dice != latest_dice_roll:\n",
    "                # Hvis terningen er blevet fjernet og en ny detekteres, opdateres værdien\n",
    "                latest_dice_roll = detected_dice\n",
    "                confirmed_dice_roll = detected_dice  # Bekræfter det nye kast\n",
    "                dice_last_seen_time = time.time()  # Nulstiller timeren for terningen\n",
    "            dice_removed = False  # Terningen er igen synlig\n",
    "        else:\n",
    "            # Hvis ingen terning er blevet set i 2 sekunder, markeres den som fjernet\n",
    "            if not dice_removed and time.time() - dice_last_seen_time > 2:\n",
    "                dice_removed = True  # Terningen er blevet fjernet\n",
    "                latest_dice_roll = None  # Nulstiller sidste kast\n",
    "\n",
    "        # Viser videofeed med detekterede terninger\n",
    "        cv2.imshow(\"YOLOv8 Live Detection\", frame)\n",
    "        if cv2.waitKey(1) & 0xFF == ord('q'):\n",
    "            break  # Lukker vinduet, hvis 'q' trykkes\n",
    "\n",
    "    cap.release()\n",
    "    cv2.destroyAllWindows()  # Frigiver kameraet og lukker vinduerne"
   ]
  },
  {
   "cell_type": "markdown",
   "metadata": {},
   "source": [
    "dawdw"
   ]
  },
  {
   "cell_type": "code",
   "execution_count": null,
   "metadata": {},
   "outputs": [],
   "source": [
    "@app.route(\"/dice\", methods=[\"GET\"])\n",
    "def get_dice():\n",
    "    \"\"\"API-endpoint til at hente det seneste terningekast.\"\"\"\n",
    "    global confirmed_dice_roll\n",
    "    if confirmed_dice_roll is not None:\n",
    "        roll = confirmed_dice_roll\n",
    "        confirmed_dice_roll = None  # Nulstiller efter afsendelse\n",
    "        return jsonify({\"dice_roll\": roll})\n",
    "    return jsonify({\"error\": \"No new dice roll\"}), 404\n",
    "\n",
    "def run_flask_app():\n",
    "    \"\"\"Starter Flask-serveren i en separat tråd.\"\"\"\n",
    "    app.run(host=\"127.0.0.1\", port=5000, debug=False, use_reloader=False)\n",
    "\n",
    "if __name__ == \"__main__\":\n",
    "    # Starter Flask-serveren i en separat tråd\n",
    "    flask_thread = threading.Thread(target=run_flask_app)\n",
    "    flask_thread.daemon = True\n",
    "    flask_thread.start()\n",
    "\n",
    "    time.sleep(2)  # Sikrer, at Flask er startet, før kameraet åbnes\n",
    "    capture_video()  # Starter videooptagelse og detektering\n"
   ]
  }
 ],
 "metadata": {
  "language_info": {
   "name": "python"
  }
 },
 "nbformat": 4,
 "nbformat_minor": 2
}
